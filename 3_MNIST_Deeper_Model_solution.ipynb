{
 "cells": [
  {
   "cell_type": "markdown",
   "metadata": {},
   "source": [
    "# Week 02 - Deep Learning Repetition"
   ]
  },
  {
   "cell_type": "markdown",
   "metadata": {},
   "source": [
    "## Deeper Model\n",
    "\n",
    "As a final step to improve model performance, let us tackle model complexity. So far, the models we have been using were quite simple, either a feed-forward neural network or a basic CNN.\n",
    "\n",
    "In this notebook, we will increase the **model complexity** by adding more layers to the CNN. These additional layers should enhance the model's capacity and capability to recognize digits that differ from those in the training dataset (i.e., at the outer edges of the data distribution).\n",
    "\n",
    "The final test will be your hand-written digits, but let's proceed step-by-step. 📈"
   ]
  },
  {
   "cell_type": "code",
   "execution_count": 1,
   "metadata": {},
   "outputs": [
    {
     "name": "stdout",
     "output_type": "stream",
     "text": [
      "Using CPU\n"
     ]
    }
   ],
   "source": [
    "import torch\n",
    "from torch.utils.data import DataLoader, random_split\n",
    "import torch.nn.functional as F\n",
    "import torch.nn as nn\n",
    "import torch.optim as optim\n",
    "from torchvision import datasets, transforms\n",
    "import matplotlib.pyplot as plt\n",
    "import numpy as np\n",
    "from torchinfo import summary\n",
    "from sklearn.metrics import confusion_matrix, ConfusionMatrixDisplay, classification_report\n",
    "from tqdm.notebook import tqdm\n",
    "from pathlib import Path\n",
    "import shutil\n",
    "import onnxruntime\n",
    "\n",
    "device = \"cuda\" if torch.cuda.is_available() else \"cpu\"\n",
    "print(f\"Using {device.upper()}\")"
   ]
  },
  {
   "cell_type": "markdown",
   "metadata": {},
   "source": [
    "## Load the MNIST Dataset "
   ]
  },
  {
   "cell_type": "markdown",
   "metadata": {},
   "source": [
    "### Data Augmentation\n",
    "\n",
    "There are a few options to augment the image data:\n",
    "\n",
    "- Randomly crop the image: RandomCrop(Output Image Size, Padding of the Image)\n",
    "\n",
    "    `torchvision.transforms.RandomCrop(28, 4)`\n",
    "\n",
    "- Randomly rotate the image: RandomRotation(Max Rotation in Degrees)\n",
    "\n",
    "    `torchvision.transforms.RandomRotation(5)`\n",
    "\n",
    "- Randomly blur the image: GaussianBlur(Kernel Size) -> larger kernel means more blur\n",
    "\n",
    "    `torchvision.transforms.GaussianBlur(kernel_size = (5,5))`\n",
    "\n",
    "- Randomly change the colors in the image: ColorJitter(Brightness, Contrast, Saturation, Hue)\n",
    "\n",
    "    `torchvision.transforms.ColorJitter(brightness=(0.5,1.5), contrast=3, saturation=(0.3,1.5), hue=(-0.1,0.1))`\n"
   ]
  },
  {
   "cell_type": "code",
   "execution_count": 2,
   "metadata": {},
   "outputs": [],
   "source": [
    "# Define the transformation\n",
    "image_transformation = transforms.Compose(\n",
    "    [\n",
    "        # '''TODO: Insert your data augmentation(s) from the last notebook.'''\n",
    "        transforms.GaussianBlur(kernel_size=(5, 5)),\n",
    "        transforms.RandomRotation(15),\n",
    "        transforms.RandomCrop(28, 4),\n",
    "        transforms.ColorJitter(\n",
    "            brightness=(0.5, 1.5), contrast=3, saturation=(0.3, 1.5), hue=(-0.1, 0.1)\n",
    "        ),\n",
    "        transforms.ToTensor(),\n",
    "    ]\n",
    ")"
   ]
  },
  {
   "cell_type": "code",
   "execution_count": 3,
   "metadata": {},
   "outputs": [],
   "source": [
    "mnist_directory = Path.cwd() / \".mnist_data\" / \"3_deeper\"\n",
    "\n",
    "# Delete the existing MNIST data directory if it exists\n",
    "if mnist_directory.exists() and mnist_directory.is_dir():\n",
    "    shutil.rmtree(mnist_directory)"
   ]
  },
  {
   "cell_type": "code",
   "execution_count": 4,
   "metadata": {},
   "outputs": [
    {
     "name": "stderr",
     "output_type": "stream",
     "text": [
      "100%|██████████| 9.91M/9.91M [00:02<00:00, 4.80MB/s]\n",
      "100%|██████████| 28.9k/28.9k [00:00<00:00, 313kB/s]\n",
      "100%|██████████| 1.65M/1.65M [00:00<00:00, 2.38MB/s]\n",
      "100%|██████████| 4.54k/4.54k [00:00<?, ?B/s]\n"
     ]
    }
   ],
   "source": [
    "# Load the MNIST dataset\n",
    "dataset_mnist_train = datasets.MNIST(\n",
    "    mnist_directory, train=True, download=True, transform=image_transformation\n",
    ")\n",
    "dataset_mnist_test = datasets.MNIST(\n",
    "    mnist_directory, train=False, download=True, transform=image_transformation\n",
    ")"
   ]
  },
  {
   "cell_type": "markdown",
   "metadata": {},
   "source": [
    "Split the training dataset into training and validation sets using PyTorch's `random_split` function."
   ]
  },
  {
   "cell_type": "code",
   "execution_count": 5,
   "metadata": {},
   "outputs": [],
   "source": [
    "# Split the training dataset into training and validation sets\n",
    "train_size = int(0.8 * len(dataset_mnist_train))\n",
    "val_size = len(dataset_mnist_train) - train_size\n",
    "dataset_mnist_train, dataset_mnist_val = random_split(\n",
    "    dataset_mnist_train, [train_size, val_size]\n",
    ")"
   ]
  },
  {
   "cell_type": "markdown",
   "metadata": {},
   "source": [
    "The `DataLoader` class is useful to create batch sizes of the data and to shuffle it."
   ]
  },
  {
   "cell_type": "code",
   "execution_count": 6,
   "metadata": {},
   "outputs": [],
   "source": [
    "# Create DataLoaders\n",
    "train_loader = DataLoader(dataset_mnist_train, batch_size=64, shuffle=True)\n",
    "val_loader = DataLoader(dataset_mnist_val, batch_size=64, shuffle=True)\n",
    "test_loader = DataLoader(dataset_mnist_test, batch_size=64, shuffle=True)"
   ]
  },
  {
   "cell_type": "markdown",
   "metadata": {},
   "source": [
    "## Visualize the Dataset\n",
    "\n",
    "Let us briefly look at the data 👀"
   ]
  },
  {
   "cell_type": "code",
   "execution_count": 7,
   "metadata": {},
   "outputs": [
    {
     "name": "stdout",
     "output_type": "stream",
     "text": [
      "Image Batch shape: torch.Size([64, 1, 28, 28])\n",
      "Label Batch shape: torch.Size([64])\n"
     ]
    }
   ],
   "source": [
    "images, labels = next(iter(train_loader))\n",
    "\n",
    "print(f\"Image Batch shape: {images.shape}\")\n",
    "print(f\"Label Batch shape: {labels.shape}\")"
   ]
  },
  {
   "cell_type": "code",
   "execution_count": 8,
   "metadata": {},
   "outputs": [
    {
     "data": {
      "image/png": "[encoded data removed]",
      "text/plain": [
       "<Figure size 640x480 with 9 Axes>"
      ]
     },
     "metadata": {},
     "output_type": "display_data"
    }
   ],
   "source": [
    "fig, axes = plt.subplots(3, 3)\n",
    "fig.suptitle(\"MNIST Dataset Samples\", fontsize=16)\n",
    "\n",
    "for ax in axes.flat:\n",
    "    idx = torch.randint(0, len(images), (1,))\n",
    "    ax.imshow(images[idx].squeeze(), cmap=\"gray\")\n",
    "    ax.set_title(f\"Label: {labels[idx].item()}\")\n",
    "    ax.axis(\"off\")\n",
    "\n",
    "plt.tight_layout()\n",
    "plt.show()"
   ]
  },
  {
   "cell_type": "markdown",
   "metadata": {},
   "source": [
    "## Model Architecture\n",
    "\n",
    "The model architecture can be adjusted with one or more of the following augmentation techniques.\n",
    "\n",
    "Use more/fewer Conv2d layers:\n",
    "```Python\n",
    "torch.nn.Conv2d(in_channels=1, out_channels=16, kernel_size=3),\n",
    "torch.nn.ReLU(),\n",
    "```\n",
    "\n",
    "Use more/fewer Dropout layers:\n",
    "```Python\n",
    "torch.nn.Dropout2d(p=0.2),\n",
    "torch.nn.Dropout(p=0.2)\n",
    "```\n",
    "\n",
    "Use more/fewer Linear (fully connected) layers:\n",
    "```Python\n",
    "torch.nn.Linear(in_features=512, out_features=128),\n",
    "torch.nn.ReLU(),\n",
    "```\n",
    "\n",
    "Add Max Pooling layers:\n",
    "```Python\n",
    "torch.nn.MaxPool2d(kernel_size=2, stride=2),\n",
    "```\n",
    "\n",
    "Add Batch Normalization layers:\n",
    "```Python\n",
    "torch.nn.BatchNorm2d(num_features=16),\n",
    "torch.nn.BatchNorm1d(num_features=512),\n",
    "```"
   ]
  },
  {
   "cell_type": "code",
   "execution_count": 9,
   "metadata": {},
   "outputs": [],
   "source": [
    "# '''TODO: Create a more complex CNN architecture using some of the above layers,\n",
    "# and/or adjust the number of filters, kernel_size, padding, etc.'''\n",
    "\n",
    "model = nn.Sequential(\n",
    "    nn.Conv2d(in_channels=1, out_channels=16, kernel_size=3, padding=1),\n",
    "    nn.BatchNorm2d(num_features=16),\n",
    "    nn.ReLU(),\n",
    "    nn.MaxPool2d(kernel_size=2, stride=2),\n",
    "    nn.Conv2d(in_channels=16, out_channels=32, kernel_size=3, padding=1),\n",
    "    nn.BatchNorm2d(num_features=32),\n",
    "    nn.ReLU(),\n",
    "    nn.MaxPool2d(kernel_size=2, stride=2),\n",
    "    nn.Flatten(),\n",
    "    nn.Linear(in_features=32 * 7 * 7, out_features=128),\n",
    "    nn.BatchNorm1d(num_features=128),\n",
    "    nn.ReLU(),\n",
    "    nn.Dropout(p=0.5),\n",
    "    nn.Linear(in_features=128, out_features=64),\n",
    "    nn.BatchNorm1d(num_features=64),\n",
    "    nn.ReLU(),\n",
    "    nn.Linear(in_features=64, out_features=10),\n",
    ")"
   ]
  },
  {
   "cell_type": "code",
   "execution_count": 10,
   "metadata": {},
   "outputs": [
    {
     "name": "stdout",
     "output_type": "stream",
     "text": [
      "==========================================================================================\n",
      "Layer (type:depth-idx)                   Output Shape              Param #\n",
      "==========================================================================================\n",
      "Sequential                               [64, 10]                  --\n",
      "├─Conv2d: 1-1                            [64, 16, 28, 28]          160\n",
      "├─BatchNorm2d: 1-2                       [64, 16, 28, 28]          32\n",
      "├─ReLU: 1-3                              [64, 16, 28, 28]          --\n",
      "├─MaxPool2d: 1-4                         [64, 16, 14, 14]          --\n",
      "├─Conv2d: 1-5                            [64, 32, 14, 14]          4,640\n",
      "├─BatchNorm2d: 1-6                       [64, 32, 14, 14]          64\n",
      "├─ReLU: 1-7                              [64, 32, 14, 14]          --\n",
      "├─MaxPool2d: 1-8                         [64, 32, 7, 7]            --\n",
      "├─Flatten: 1-9                           [64, 1568]                --\n",
      "├─Linear: 1-10                           [64, 128]                 200,832\n",
      "├─BatchNorm1d: 1-11                      [64, 128]                 256\n",
      "├─ReLU: 1-12                             [64, 128]                 --\n",
      "├─Dropout: 1-13                          [64, 128]                 --\n",
      "├─Linear: 1-14                           [64, 64]                  8,256\n",
      "├─BatchNorm1d: 1-15                      [64, 64]                  128\n",
      "├─ReLU: 1-16                             [64, 64]                  --\n",
      "├─Linear: 1-17                           [64, 10]                  650\n",
      "==========================================================================================\n",
      "Total params: 215,018\n",
      "Trainable params: 215,018\n",
      "Non-trainable params: 0\n",
      "Total mult-adds (Units.MEGABYTES): 79.69\n",
      "==========================================================================================\n",
      "Input size (MB): 0.20\n",
      "Forward/backward pass size (MB): 19.47\n",
      "Params size (MB): 0.86\n",
      "Estimated Total Size (MB): 20.53\n",
      "==========================================================================================\n",
      "Model output shape: torch.Size([64, 10])\n"
     ]
    }
   ],
   "source": [
    "print(summary(model=model, input_size=images.shape))\n",
    "model_output = model(images)\n",
    "print(f\"Model output shape: {model_output.shape}\")"
   ]
  },
  {
   "cell_type": "markdown",
   "metadata": {},
   "source": [
    "## Model Training"
   ]
  },
  {
   "cell_type": "code",
   "execution_count": 11,
   "metadata": {},
   "outputs": [
    {
     "data": {
      "application/vnd.jupyter.widget-view+json": {
       "model_id": "11b08b3a6cf6411498926d625bb8e103",
       "version_major": 2,
       "version_minor": 0
      },
      "text/plain": [
       "Training Epoch 1/10:   0%|          | 0/750 [00:00<?, ?it/s]"
      ]
     },
     "metadata": {},
     "output_type": "display_data"
    },
    {
     "name": "stdout",
     "output_type": "stream",
     "text": [
      "After batch 100: Train Loss: 1.8079\n"
     ]
    },
    {
     "data": {
      "application/vnd.jupyter.widget-view+json": {
       "model_id": "ebcee5ef043d445bb50ab222212c91a7",
       "version_major": 2,
       "version_minor": 0
      },
      "text/plain": [
       "Validation:   0%|          | 0/188 [00:00<?, ?it/s]"
      ]
     },
     "metadata": {},
     "output_type": "display_data"
    },
    {
     "name": "stdout",
     "output_type": "stream",
     "text": [
      "After batch 100: Validation Loss: 1.2487\n",
      "After batch 200: Train Loss: 1.4301\n"
     ]
    },
    {
     "data": {
      "application/vnd.jupyter.widget-view+json": {
       "model_id": "887b3c468ffd4fdcbd663e2b321d968e",
       "version_major": 2,
       "version_minor": 0
      },
      "text/plain": [
       "Validation:   0%|          | 0/188 [00:00<?, ?it/s]"
      ]
     },
     "metadata": {},
     "output_type": "display_data"
    },
    {
     "name": "stdout",
     "output_type": "stream",
     "text": [
      "After batch 200: Validation Loss: 0.8123\n",
      "After batch 300: Train Loss: 1.2121\n"
     ]
    },
    {
     "data": {
      "application/vnd.jupyter.widget-view+json": {
       "model_id": "c235ee1b49094a3b9626e448bc81d468",
       "version_major": 2,
       "version_minor": 0
      },
      "text/plain": [
       "Validation:   0%|          | 0/188 [00:00<?, ?it/s]"
      ]
     },
     "metadata": {},
     "output_type": "display_data"
    },
    {
     "name": "stdout",
     "output_type": "stream",
     "text": [
      "After batch 300: Validation Loss: 0.5612\n",
      "After batch 400: Train Loss: 1.0704\n"
     ]
    },
    {
     "data": {
      "application/vnd.jupyter.widget-view+json": {
       "model_id": "f084aa98fc044cd8b36bd7e066ed4ab8",
       "version_major": 2,
       "version_minor": 0
      },
      "text/plain": [
       "Validation:   0%|          | 0/188 [00:00<?, ?it/s]"
      ]
     },
     "metadata": {},
     "output_type": "display_data"
    },
    {
     "name": "stdout",
     "output_type": "stream",
     "text": [
      "After batch 400: Validation Loss: 0.4944\n",
      "After batch 500: Train Loss: 0.9803\n"
     ]
    },
    {
     "data": {
      "application/vnd.jupyter.widget-view+json": {
       "model_id": "ece5d12773fe4a2080ab010e5ce5d77d",
       "version_major": 2,
       "version_minor": 0
      },
      "text/plain": [
       "Validation:   0%|          | 0/188 [00:00<?, ?it/s]"
      ]
     },
     "metadata": {},
     "output_type": "display_data"
    },
    {
     "name": "stdout",
     "output_type": "stream",
     "text": [
      "After batch 500: Validation Loss: 0.4437\n",
      "After batch 600: Train Loss: 0.9138\n"
     ]
    },
    {
     "data": {
      "application/vnd.jupyter.widget-view+json": {
       "model_id": "e8d416ae3fc9456c99603bd69445628d",
       "version_major": 2,
       "version_minor": 0
      },
      "text/plain": [
       "Validation:   0%|          | 0/188 [00:00<?, ?it/s]"
      ]
     },
     "metadata": {},
     "output_type": "display_data"
    },
    {
     "name": "stdout",
     "output_type": "stream",
     "text": [
      "After batch 600: Validation Loss: 0.4033\n",
      "After batch 700: Train Loss: 0.8613\n"
     ]
    },
    {
     "data": {
      "application/vnd.jupyter.widget-view+json": {
       "model_id": "8f836f9779fd40e48005ee0a40adf983",
       "version_major": 2,
       "version_minor": 0
      },
      "text/plain": [
       "Validation:   0%|          | 0/188 [00:00<?, ?it/s]"
      ]
     },
     "metadata": {},
     "output_type": "display_data"
    },
    {
     "name": "stdout",
     "output_type": "stream",
     "text": [
      "After batch 700: Validation Loss: 0.3919\n",
      "Epoch 1 - Train Loss: 0.8394\n"
     ]
    },
    {
     "data": {
      "application/vnd.jupyter.widget-view+json": {
       "model_id": "b87bdfb2fdc64f0e81f087579e34dcef",
       "version_major": 2,
       "version_minor": 0
      },
      "text/plain": [
       "Validation:   0%|          | 0/188 [00:00<?, ?it/s]"
      ]
     },
     "metadata": {},
     "output_type": "display_data"
    },
    {
     "name": "stdout",
     "output_type": "stream",
     "text": [
      "Epoch 1 - Validation Loss: 0.3759\n"
     ]
    },
    {
     "data": {
      "application/vnd.jupyter.widget-view+json": {
       "model_id": "99ba86326057414ba5733bc128586ae1",
       "version_major": 2,
       "version_minor": 0
      },
      "text/plain": [
       "Training Epoch 2/10:   0%|          | 0/750 [00:00<?, ?it/s]"
      ]
     },
     "metadata": {},
     "output_type": "display_data"
    },
    {
     "name": "stdout",
     "output_type": "stream",
     "text": [
      "After batch 100: Train Loss: 0.4892\n"
     ]
    },
    {
     "data": {
      "application/vnd.jupyter.widget-view+json": {
       "model_id": "ea13d28125084fefa42c87c407a0c8f5",
       "version_major": 2,
       "version_minor": 0
      },
      "text/plain": [
       "Validation:   0%|          | 0/188 [00:00<?, ?it/s]"
      ]
     },
     "metadata": {},
     "output_type": "display_data"
    },
    {
     "name": "stdout",
     "output_type": "stream",
     "text": [
      "After batch 100: Validation Loss: 0.3318\n",
      "After batch 200: Train Loss: 0.4839\n"
     ]
    },
    {
     "data": {
      "application/vnd.jupyter.widget-view+json": {
       "model_id": "541bc4acec4442b1a79b3eecd2a6b780",
       "version_major": 2,
       "version_minor": 0
      },
      "text/plain": [
       "Validation:   0%|          | 0/188 [00:00<?, ?it/s]"
      ]
     },
     "metadata": {},
     "output_type": "display_data"
    },
    {
     "name": "stdout",
     "output_type": "stream",
     "text": [
      "After batch 200: Validation Loss: 0.3038\n",
      "After batch 300: Train Loss: 0.4782\n"
     ]
    },
    {
     "data": {
      "application/vnd.jupyter.widget-view+json": {
       "model_id": "9cbdf81d66104c929f8b48471984433b",
       "version_major": 2,
       "version_minor": 0
      },
      "text/plain": [
       "Validation:   0%|          | 0/188 [00:00<?, ?it/s]"
      ]
     },
     "metadata": {},
     "output_type": "display_data"
    },
    {
     "name": "stdout",
     "output_type": "stream",
     "text": [
      "After batch 300: Validation Loss: 0.3000\n",
      "After batch 400: Train Loss: 0.4633\n"
     ]
    },
    {
     "data": {
      "application/vnd.jupyter.widget-view+json": {
       "model_id": "6ffc7399ceed4dce8f83190fd1ee5df6",
       "version_major": 2,
       "version_minor": 0
      },
      "text/plain": [
       "Validation:   0%|          | 0/188 [00:00<?, ?it/s]"
      ]
     },
     "metadata": {},
     "output_type": "display_data"
    },
    {
     "name": "stdout",
     "output_type": "stream",
     "text": [
      "After batch 400: Validation Loss: 0.2796\n",
      "After batch 500: Train Loss: 0.4551\n"
     ]
    },
    {
     "data": {
      "application/vnd.jupyter.widget-view+json": {
       "model_id": "e385609ab1bb4238af2f96a96b42d0df",
       "version_major": 2,
       "version_minor": 0
      },
      "text/plain": [
       "Validation:   0%|          | 0/188 [00:00<?, ?it/s]"
      ]
     },
     "metadata": {},
     "output_type": "display_data"
    },
    {
     "name": "stdout",
     "output_type": "stream",
     "text": [
      "After batch 500: Validation Loss: 0.3084\n",
      "After batch 600: Train Loss: 0.4492\n"
     ]
    },
    {
     "data": {
      "application/vnd.jupyter.widget-view+json": {
       "model_id": "07fdc261a7064aa6a7cdbefdfd2fb063",
       "version_major": 2,
       "version_minor": 0
      },
      "text/plain": [
       "Validation:   0%|          | 0/188 [00:00<?, ?it/s]"
      ]
     },
     "metadata": {},
     "output_type": "display_data"
    },
    {
     "name": "stdout",
     "output_type": "stream",
     "text": [
      "After batch 600: Validation Loss: 0.2954\n",
      "After batch 700: Train Loss: 0.4420\n"
     ]
    },
    {
     "data": {
      "application/vnd.jupyter.widget-view+json": {
       "model_id": "f3066c5719d84ecba51fbb6fb69819e4",
       "version_major": 2,
       "version_minor": 0
      },
      "text/plain": [
       "Validation:   0%|          | 0/188 [00:00<?, ?it/s]"
      ]
     },
     "metadata": {},
     "output_type": "display_data"
    },
    {
     "name": "stdout",
     "output_type": "stream",
     "text": [
      "After batch 700: Validation Loss: 0.3185\n",
      "Epoch 2 - Train Loss: 0.4414\n"
     ]
    },
    {
     "data": {
      "application/vnd.jupyter.widget-view+json": {
       "model_id": "4b106b424db146308cc9ede4ff8022f5",
       "version_major": 2,
       "version_minor": 0
      },
      "text/plain": [
       "Validation:   0%|          | 0/188 [00:00<?, ?it/s]"
      ]
     },
     "metadata": {},
     "output_type": "display_data"
    },
    {
     "name": "stdout",
     "output_type": "stream",
     "text": [
      "Epoch 2 - Validation Loss: 0.2553\n"
     ]
    },
    {
     "data": {
      "application/vnd.jupyter.widget-view+json": {
       "model_id": "a671c745a8044bd3aa97794178b370d7",
       "version_major": 2,
       "version_minor": 0
      },
      "text/plain": [
       "Training Epoch 3/10:   0%|          | 0/750 [00:00<?, ?it/s]"
      ]
     },
     "metadata": {},
     "output_type": "display_data"
    },
    {
     "name": "stdout",
     "output_type": "stream",
     "text": [
      "After batch 100: Train Loss: 0.3834\n"
     ]
    },
    {
     "data": {
      "application/vnd.jupyter.widget-view+json": {
       "model_id": "de9e109d914544ecac3259105f64c215",
       "version_major": 2,
       "version_minor": 0
      },
      "text/plain": [
       "Validation:   0%|          | 0/188 [00:00<?, ?it/s]"
      ]
     },
     "metadata": {},
     "output_type": "display_data"
    },
    {
     "name": "stdout",
     "output_type": "stream",
     "text": [
      "After batch 100: Validation Loss: 0.2944\n",
      "After batch 200: Train Loss: 0.3814\n"
     ]
    },
    {
     "data": {
      "application/vnd.jupyter.widget-view+json": {
       "model_id": "aa9691f5e6a64f1fa4ac2c0c08db63d1",
       "version_major": 2,
       "version_minor": 0
      },
      "text/plain": [
       "Validation:   0%|          | 0/188 [00:00<?, ?it/s]"
      ]
     },
     "metadata": {},
     "output_type": "display_data"
    },
    {
     "name": "stdout",
     "output_type": "stream",
     "text": [
      "After batch 200: Validation Loss: 0.2420\n",
      "After batch 300: Train Loss: 0.3837\n"
     ]
    },
    {
     "data": {
      "application/vnd.jupyter.widget-view+json": {
       "model_id": "71f2d35623bc4318a5a83a10312fa334",
       "version_major": 2,
       "version_minor": 0
      },
      "text/plain": [
       "Validation:   0%|          | 0/188 [00:00<?, ?it/s]"
      ]
     },
     "metadata": {},
     "output_type": "display_data"
    },
    {
     "name": "stdout",
     "output_type": "stream",
     "text": [
      "After batch 300: Validation Loss: 0.2399\n",
      "After batch 400: Train Loss: 0.3825\n"
     ]
    },
    {
     "data": {
      "application/vnd.jupyter.widget-view+json": {
       "model_id": "abbb08642b2047ae996da024a0b06ee9",
       "version_major": 2,
       "version_minor": 0
      },
      "text/plain": [
       "Validation:   0%|          | 0/188 [00:00<?, ?it/s]"
      ]
     },
     "metadata": {},
     "output_type": "display_data"
    },
    {
     "name": "stdout",
     "output_type": "stream",
     "text": [
      "After batch 400: Validation Loss: 0.3175\n",
      "After batch 500: Train Loss: 0.3770\n"
     ]
    },
    {
     "data": {
      "application/vnd.jupyter.widget-view+json": {
       "model_id": "c26c7caca9754c448d8cb0205a6990e4",
       "version_major": 2,
       "version_minor": 0
      },
      "text/plain": [
       "Validation:   0%|          | 0/188 [00:00<?, ?it/s]"
      ]
     },
     "metadata": {},
     "output_type": "display_data"
    },
    {
     "name": "stdout",
     "output_type": "stream",
     "text": [
      "After batch 500: Validation Loss: 0.2370\n",
      "After batch 600: Train Loss: 0.3748\n"
     ]
    },
    {
     "data": {
      "application/vnd.jupyter.widget-view+json": {
       "model_id": "be75d63f63e44878a4dc0d76891187d8",
       "version_major": 2,
       "version_minor": 0
      },
      "text/plain": [
       "Validation:   0%|          | 0/188 [00:00<?, ?it/s]"
      ]
     },
     "metadata": {},
     "output_type": "display_data"
    },
    {
     "name": "stdout",
     "output_type": "stream",
     "text": [
      "After batch 600: Validation Loss: 0.2324\n",
      "After batch 700: Train Loss: 0.3686\n"
     ]
    },
    {
     "data": {
      "application/vnd.jupyter.widget-view+json": {
       "model_id": "d41486736ddb4132b3cf15e1582c7f8b",
       "version_major": 2,
       "version_minor": 0
      },
      "text/plain": [
       "Validation:   0%|          | 0/188 [00:00<?, ?it/s]"
      ]
     },
     "metadata": {},
     "output_type": "display_data"
    },
    {
     "name": "stdout",
     "output_type": "stream",
     "text": [
      "After batch 700: Validation Loss: 0.2210\n",
      "Epoch 3 - Train Loss: 0.3692\n"
     ]
    },
    {
     "data": {
      "application/vnd.jupyter.widget-view+json": {
       "model_id": "65a1b1c722704f9b9b4f1a918c698110",
       "version_major": 2,
       "version_minor": 0
      },
      "text/plain": [
       "Validation:   0%|          | 0/188 [00:00<?, ?it/s]"
      ]
     },
     "metadata": {},
     "output_type": "display_data"
    },
    {
     "name": "stdout",
     "output_type": "stream",
     "text": [
      "Epoch 3 - Validation Loss: 0.2366\n"
     ]
    },
    {
     "data": {
      "application/vnd.jupyter.widget-view+json": {
       "model_id": "7ac1cad085e34df0896b70597485960d",
       "version_major": 2,
       "version_minor": 0
      },
      "text/plain": [
       "Training Epoch 4/10:   0%|          | 0/750 [00:00<?, ?it/s]"
      ]
     },
     "metadata": {},
     "output_type": "display_data"
    },
    {
     "name": "stdout",
     "output_type": "stream",
     "text": [
      "After batch 100: Train Loss: 0.3569\n"
     ]
    },
    {
     "data": {
      "application/vnd.jupyter.widget-view+json": {
       "model_id": "c015c3f7c9e54c04852ba67868ea5dd9",
       "version_major": 2,
       "version_minor": 0
      },
      "text/plain": [
       "Validation:   0%|          | 0/188 [00:00<?, ?it/s]"
      ]
     },
     "metadata": {},
     "output_type": "display_data"
    },
    {
     "name": "stdout",
     "output_type": "stream",
     "text": [
      "After batch 100: Validation Loss: 0.2507\n",
      "After batch 200: Train Loss: 0.3436\n"
     ]
    },
    {
     "data": {
      "application/vnd.jupyter.widget-view+json": {
       "model_id": "158665b8ce3644ecbac12d4a35e09dfe",
       "version_major": 2,
       "version_minor": 0
      },
      "text/plain": [
       "Validation:   0%|          | 0/188 [00:00<?, ?it/s]"
      ]
     },
     "metadata": {},
     "output_type": "display_data"
    },
    {
     "name": "stdout",
     "output_type": "stream",
     "text": [
      "After batch 200: Validation Loss: 0.2226\n",
      "After batch 300: Train Loss: 0.3395\n"
     ]
    },
    {
     "data": {
      "application/vnd.jupyter.widget-view+json": {
       "model_id": "4937f1c42d7e4ba99c0c8935ba1b829a",
       "version_major": 2,
       "version_minor": 0
      },
      "text/plain": [
       "Validation:   0%|          | 0/188 [00:00<?, ?it/s]"
      ]
     },
     "metadata": {},
     "output_type": "display_data"
    },
    {
     "name": "stdout",
     "output_type": "stream",
     "text": [
      "After batch 300: Validation Loss: 0.2439\n",
      "After batch 400: Train Loss: 0.3340\n"
     ]
    },
    {
     "data": {
      "application/vnd.jupyter.widget-view+json": {
       "model_id": "00c662697c6b4c3686bb528c20d3562a",
       "version_major": 2,
       "version_minor": 0
      },
      "text/plain": [
       "Validation:   0%|          | 0/188 [00:00<?, ?it/s]"
      ]
     },
     "metadata": {},
     "output_type": "display_data"
    },
    {
     "name": "stdout",
     "output_type": "stream",
     "text": [
      "After batch 400: Validation Loss: 0.2115\n",
      "After batch 500: Train Loss: 0.3308\n"
     ]
    },
    {
     "data": {
      "application/vnd.jupyter.widget-view+json": {
       "model_id": "d313abeb90fe4fd180212b9a85cc8b8b",
       "version_major": 2,
       "version_minor": 0
      },
      "text/plain": [
       "Validation:   0%|          | 0/188 [00:00<?, ?it/s]"
      ]
     },
     "metadata": {},
     "output_type": "display_data"
    },
    {
     "name": "stdout",
     "output_type": "stream",
     "text": [
      "After batch 500: Validation Loss: 0.2045\n",
      "After batch 600: Train Loss: 0.3322\n"
     ]
    },
    {
     "data": {
      "application/vnd.jupyter.widget-view+json": {
       "model_id": "b136fcbe9f0a4440b13216a71797afe8",
       "version_major": 2,
       "version_minor": 0
      },
      "text/plain": [
       "Validation:   0%|          | 0/188 [00:00<?, ?it/s]"
      ]
     },
     "metadata": {},
     "output_type": "display_data"
    },
    {
     "name": "stdout",
     "output_type": "stream",
     "text": [
      "After batch 600: Validation Loss: 0.2121\n",
      "After batch 700: Train Loss: 0.3296\n"
     ]
    },
    {
     "data": {
      "application/vnd.jupyter.widget-view+json": {
       "model_id": "5eb699cc18a14253b5160aa1ea84bb07",
       "version_major": 2,
       "version_minor": 0
      },
      "text/plain": [
       "Validation:   0%|          | 0/188 [00:00<?, ?it/s]"
      ]
     },
     "metadata": {},
     "output_type": "display_data"
    },
    {
     "name": "stdout",
     "output_type": "stream",
     "text": [
      "After batch 700: Validation Loss: 0.2054\n",
      "Epoch 4 - Train Loss: 0.3270\n"
     ]
    },
    {
     "data": {
      "application/vnd.jupyter.widget-view+json": {
       "model_id": "a2ddcd6eaff84e599bc4abced0682668",
       "version_major": 2,
       "version_minor": 0
      },
      "text/plain": [
       "Validation:   0%|          | 0/188 [00:00<?, ?it/s]"
      ]
     },
     "metadata": {},
     "output_type": "display_data"
    },
    {
     "name": "stdout",
     "output_type": "stream",
     "text": [
      "Epoch 4 - Validation Loss: 0.2454\n"
     ]
    },
    {
     "data": {
      "application/vnd.jupyter.widget-view+json": {
       "model_id": "2c21ef5ee9c548bba15e999e10eaf8e8",
       "version_major": 2,
       "version_minor": 0
      },
      "text/plain": [
       "Training Epoch 5/10:   0%|          | 0/750 [00:00<?, ?it/s]"
      ]
     },
     "metadata": {},
     "output_type": "display_data"
    },
    {
     "name": "stdout",
     "output_type": "stream",
     "text": [
      "After batch 100: Train Loss: 0.3190\n"
     ]
    },
    {
     "data": {
      "application/vnd.jupyter.widget-view+json": {
       "model_id": "b55c46d4f1f548b0805a776881cea6e5",
       "version_major": 2,
       "version_minor": 0
      },
      "text/plain": [
       "Validation:   0%|          | 0/188 [00:00<?, ?it/s]"
      ]
     },
     "metadata": {},
     "output_type": "display_data"
    },
    {
     "name": "stdout",
     "output_type": "stream",
     "text": [
      "After batch 100: Validation Loss: 0.2139\n",
      "After batch 200: Train Loss: 0.3117\n"
     ]
    },
    {
     "data": {
      "application/vnd.jupyter.widget-view+json": {
       "model_id": "5557065704b64f21a211200684ccd2fb",
       "version_major": 2,
       "version_minor": 0
      },
      "text/plain": [
       "Validation:   0%|          | 0/188 [00:00<?, ?it/s]"
      ]
     },
     "metadata": {},
     "output_type": "display_data"
    },
    {
     "name": "stdout",
     "output_type": "stream",
     "text": [
      "After batch 200: Validation Loss: 0.1981\n",
      "After batch 300: Train Loss: 0.3102\n"
     ]
    },
    {
     "data": {
      "application/vnd.jupyter.widget-view+json": {
       "model_id": "68f75e4613964d788fb7c9c3c12b76f4",
       "version_major": 2,
       "version_minor": 0
      },
      "text/plain": [
       "Validation:   0%|          | 0/188 [00:00<?, ?it/s]"
      ]
     },
     "metadata": {},
     "output_type": "display_data"
    },
    {
     "name": "stdout",
     "output_type": "stream",
     "text": [
      "After batch 300: Validation Loss: 0.1971\n",
      "After batch 400: Train Loss: 0.3088\n"
     ]
    },
    {
     "data": {
      "application/vnd.jupyter.widget-view+json": {
       "model_id": "865d0cd131b6482ca815a6466cc3c53f",
       "version_major": 2,
       "version_minor": 0
      },
      "text/plain": [
       "Validation:   0%|          | 0/188 [00:00<?, ?it/s]"
      ]
     },
     "metadata": {},
     "output_type": "display_data"
    },
    {
     "name": "stdout",
     "output_type": "stream",
     "text": [
      "After batch 400: Validation Loss: 0.1889\n",
      "After batch 500: Train Loss: 0.3061\n"
     ]
    },
    {
     "data": {
      "application/vnd.jupyter.widget-view+json": {
       "model_id": "c471d053df304564b6714ba9cbddc3a6",
       "version_major": 2,
       "version_minor": 0
      },
      "text/plain": [
       "Validation:   0%|          | 0/188 [00:00<?, ?it/s]"
      ]
     },
     "metadata": {},
     "output_type": "display_data"
    },
    {
     "name": "stdout",
     "output_type": "stream",
     "text": [
      "After batch 500: Validation Loss: 0.2126\n",
      "After batch 600: Train Loss: 0.3056\n"
     ]
    },
    {
     "data": {
      "application/vnd.jupyter.widget-view+json": {
       "model_id": "8bbeb44ee6b94e43b3ef5586c4122ad2",
       "version_major": 2,
       "version_minor": 0
      },
      "text/plain": [
       "Validation:   0%|          | 0/188 [00:00<?, ?it/s]"
      ]
     },
     "metadata": {},
     "output_type": "display_data"
    },
    {
     "name": "stdout",
     "output_type": "stream",
     "text": [
      "After batch 600: Validation Loss: 0.2023\n",
      "After batch 700: Train Loss: 0.3037\n"
     ]
    },
    {
     "data": {
      "application/vnd.jupyter.widget-view+json": {
       "model_id": "558451b33c9446cdb4e3a0ff7f34ad73",
       "version_major": 2,
       "version_minor": 0
      },
      "text/plain": [
       "Validation:   0%|          | 0/188 [00:00<?, ?it/s]"
      ]
     },
     "metadata": {},
     "output_type": "display_data"
    },
    {
     "name": "stdout",
     "output_type": "stream",
     "text": [
      "After batch 700: Validation Loss: 0.1994\n",
      "Epoch 5 - Train Loss: 0.3040\n"
     ]
    },
    {
     "data": {
      "application/vnd.jupyter.widget-view+json": {
       "model_id": "0569829c047f4252a7f8f1634978bcb7",
       "version_major": 2,
       "version_minor": 0
      },
      "text/plain": [
       "Validation:   0%|          | 0/188 [00:00<?, ?it/s]"
      ]
     },
     "metadata": {},
     "output_type": "display_data"
    },
    {
     "name": "stdout",
     "output_type": "stream",
     "text": [
      "Epoch 5 - Validation Loss: 0.1810\n"
     ]
    },
    {
     "data": {
      "application/vnd.jupyter.widget-view+json": {
       "model_id": "d03968f3ce5442e4891d17d88d5e20eb",
       "version_major": 2,
       "version_minor": 0
      },
      "text/plain": [
       "Training Epoch 6/10:   0%|          | 0/750 [00:00<?, ?it/s]"
      ]
     },
     "metadata": {},
     "output_type": "display_data"
    },
    {
     "name": "stdout",
     "output_type": "stream",
     "text": [
      "After batch 100: Train Loss: 0.2963\n"
     ]
    },
    {
     "data": {
      "application/vnd.jupyter.widget-view+json": {
       "model_id": "689dfbff8f2b434a997b9effb656220f",
       "version_major": 2,
       "version_minor": 0
      },
      "text/plain": [
       "Validation:   0%|          | 0/188 [00:00<?, ?it/s]"
      ]
     },
     "metadata": {},
     "output_type": "display_data"
    },
    {
     "name": "stdout",
     "output_type": "stream",
     "text": [
      "After batch 100: Validation Loss: 0.1820\n",
      "After batch 200: Train Loss: 0.2913\n"
     ]
    },
    {
     "data": {
      "application/vnd.jupyter.widget-view+json": {
       "model_id": "52054c4a997c4dce8c5177bbd5b9dda7",
       "version_major": 2,
       "version_minor": 0
      },
      "text/plain": [
       "Validation:   0%|          | 0/188 [00:00<?, ?it/s]"
      ]
     },
     "metadata": {},
     "output_type": "display_data"
    },
    {
     "name": "stdout",
     "output_type": "stream",
     "text": [
      "After batch 200: Validation Loss: 0.1852\n",
      "After batch 300: Train Loss: 0.2930\n"
     ]
    },
    {
     "data": {
      "application/vnd.jupyter.widget-view+json": {
       "model_id": "3e9834c008e647848d20723ced83b094",
       "version_major": 2,
       "version_minor": 0
      },
      "text/plain": [
       "Validation:   0%|          | 0/188 [00:00<?, ?it/s]"
      ]
     },
     "metadata": {},
     "output_type": "display_data"
    },
    {
     "name": "stdout",
     "output_type": "stream",
     "text": [
      "After batch 300: Validation Loss: 0.2121\n",
      "After batch 400: Train Loss: 0.2885\n"
     ]
    },
    {
     "data": {
      "application/vnd.jupyter.widget-view+json": {
       "model_id": "1dfbb8cd27c541dda4b0a6bd5d7ec3aa",
       "version_major": 2,
       "version_minor": 0
      },
      "text/plain": [
       "Validation:   0%|          | 0/188 [00:00<?, ?it/s]"
      ]
     },
     "metadata": {},
     "output_type": "display_data"
    },
    {
     "name": "stdout",
     "output_type": "stream",
     "text": [
      "After batch 400: Validation Loss: 0.1717\n",
      "After batch 500: Train Loss: 0.2860\n"
     ]
    },
    {
     "data": {
      "application/vnd.jupyter.widget-view+json": {
       "model_id": "9f7cbcba8fd543eb90fa9ff1472c1125",
       "version_major": 2,
       "version_minor": 0
      },
      "text/plain": [
       "Validation:   0%|          | 0/188 [00:00<?, ?it/s]"
      ]
     },
     "metadata": {},
     "output_type": "display_data"
    },
    {
     "name": "stdout",
     "output_type": "stream",
     "text": [
      "After batch 500: Validation Loss: 0.1667\n",
      "After batch 600: Train Loss: 0.2836\n"
     ]
    },
    {
     "data": {
      "application/vnd.jupyter.widget-view+json": {
       "model_id": "a6b5f80e5805470bb2f43aa6f64d051b",
       "version_major": 2,
       "version_minor": 0
      },
      "text/plain": [
       "Validation:   0%|          | 0/188 [00:00<?, ?it/s]"
      ]
     },
     "metadata": {},
     "output_type": "display_data"
    },
    {
     "name": "stdout",
     "output_type": "stream",
     "text": [
      "After batch 600: Validation Loss: 0.2003\n",
      "After batch 700: Train Loss: 0.2839\n"
     ]
    },
    {
     "data": {
      "application/vnd.jupyter.widget-view+json": {
       "model_id": "d47cd41c1e0c4972ab27e34409308af3",
       "version_major": 2,
       "version_minor": 0
      },
      "text/plain": [
       "Validation:   0%|          | 0/188 [00:00<?, ?it/s]"
      ]
     },
     "metadata": {},
     "output_type": "display_data"
    },
    {
     "name": "stdout",
     "output_type": "stream",
     "text": [
      "After batch 700: Validation Loss: 0.1734\n",
      "Epoch 6 - Train Loss: 0.2829\n"
     ]
    },
    {
     "data": {
      "application/vnd.jupyter.widget-view+json": {
       "model_id": "42718db560e1405bb5558782c958b594",
       "version_major": 2,
       "version_minor": 0
      },
      "text/plain": [
       "Validation:   0%|          | 0/188 [00:00<?, ?it/s]"
      ]
     },
     "metadata": {},
     "output_type": "display_data"
    },
    {
     "name": "stdout",
     "output_type": "stream",
     "text": [
      "Epoch 6 - Validation Loss: 0.1763\n"
     ]
    },
    {
     "data": {
      "application/vnd.jupyter.widget-view+json": {
       "model_id": "ff20b072ff10482a8976e7390d0005a4",
       "version_major": 2,
       "version_minor": 0
      },
      "text/plain": [
       "Training Epoch 7/10:   0%|          | 0/750 [00:00<?, ?it/s]"
      ]
     },
     "metadata": {},
     "output_type": "display_data"
    },
    {
     "name": "stdout",
     "output_type": "stream",
     "text": [
      "After batch 100: Train Loss: 0.2851\n"
     ]
    },
    {
     "data": {
      "application/vnd.jupyter.widget-view+json": {
       "model_id": "36619c1a01c040ce9af7f31ad155a3f1",
       "version_major": 2,
       "version_minor": 0
      },
      "text/plain": [
       "Validation:   0%|          | 0/188 [00:00<?, ?it/s]"
      ]
     },
     "metadata": {},
     "output_type": "display_data"
    },
    {
     "name": "stdout",
     "output_type": "stream",
     "text": [
      "After batch 100: Validation Loss: 0.1949\n",
      "After batch 200: Train Loss: 0.2763\n"
     ]
    },
    {
     "data": {
      "application/vnd.jupyter.widget-view+json": {
       "model_id": "f067f9cea598486d993dadda2b5b0c72",
       "version_major": 2,
       "version_minor": 0
      },
      "text/plain": [
       "Validation:   0%|          | 0/188 [00:00<?, ?it/s]"
      ]
     },
     "metadata": {},
     "output_type": "display_data"
    },
    {
     "name": "stdout",
     "output_type": "stream",
     "text": [
      "After batch 200: Validation Loss: 0.1615\n",
      "After batch 300: Train Loss: 0.2758\n"
     ]
    },
    {
     "data": {
      "application/vnd.jupyter.widget-view+json": {
       "model_id": "5db987671a804089a0df9f196fe95cb9",
       "version_major": 2,
       "version_minor": 0
      },
      "text/plain": [
       "Validation:   0%|          | 0/188 [00:00<?, ?it/s]"
      ]
     },
     "metadata": {},
     "output_type": "display_data"
    },
    {
     "name": "stdout",
     "output_type": "stream",
     "text": [
      "After batch 300: Validation Loss: 0.1695\n",
      "After batch 400: Train Loss: 0.2713\n"
     ]
    },
    {
     "data": {
      "application/vnd.jupyter.widget-view+json": {
       "model_id": "13173266d97246a0900dbf2eebe65e30",
       "version_major": 2,
       "version_minor": 0
      },
      "text/plain": [
       "Validation:   0%|          | 0/188 [00:00<?, ?it/s]"
      ]
     },
     "metadata": {},
     "output_type": "display_data"
    },
    {
     "name": "stdout",
     "output_type": "stream",
     "text": [
      "After batch 400: Validation Loss: 0.1694\n",
      "After batch 500: Train Loss: 0.2727\n"
     ]
    },
    {
     "data": {
      "application/vnd.jupyter.widget-view+json": {
       "model_id": "9a6bd2b6c6ea4958b97992d90bb16245",
       "version_major": 2,
       "version_minor": 0
      },
      "text/plain": [
       "Validation:   0%|          | 0/188 [00:00<?, ?it/s]"
      ]
     },
     "metadata": {},
     "output_type": "display_data"
    },
    {
     "name": "stdout",
     "output_type": "stream",
     "text": [
      "After batch 500: Validation Loss: 0.1620\n",
      "After batch 600: Train Loss: 0.2704\n"
     ]
    },
    {
     "data": {
      "application/vnd.jupyter.widget-view+json": {
       "model_id": "6fe920ab94c943aa9ccb8d7cc62aa61b",
       "version_major": 2,
       "version_minor": 0
      },
      "text/plain": [
       "Validation:   0%|          | 0/188 [00:00<?, ?it/s]"
      ]
     },
     "metadata": {},
     "output_type": "display_data"
    },
    {
     "name": "stdout",
     "output_type": "stream",
     "text": [
      "After batch 600: Validation Loss: 0.1570\n",
      "After batch 700: Train Loss: 0.2691\n"
     ]
    },
    {
     "data": {
      "application/vnd.jupyter.widget-view+json": {
       "model_id": "2cd9bf55e2784e059cab83744d711b68",
       "version_major": 2,
       "version_minor": 0
      },
      "text/plain": [
       "Validation:   0%|          | 0/188 [00:00<?, ?it/s]"
      ]
     },
     "metadata": {},
     "output_type": "display_data"
    },
    {
     "name": "stdout",
     "output_type": "stream",
     "text": [
      "After batch 700: Validation Loss: 0.1714\n",
      "Epoch 7 - Train Loss: 0.2688\n"
     ]
    },
    {
     "data": {
      "application/vnd.jupyter.widget-view+json": {
       "model_id": "f352a927db354be09ef44d694c56f99d",
       "version_major": 2,
       "version_minor": 0
      },
      "text/plain": [
       "Validation:   0%|          | 0/188 [00:00<?, ?it/s]"
      ]
     },
     "metadata": {},
     "output_type": "display_data"
    },
    {
     "name": "stdout",
     "output_type": "stream",
     "text": [
      "Epoch 7 - Validation Loss: 0.1498\n"
     ]
    },
    {
     "data": {
      "application/vnd.jupyter.widget-view+json": {
       "model_id": "55841c1018e64080a30d243a3967f286",
       "version_major": 2,
       "version_minor": 0
      },
      "text/plain": [
       "Training Epoch 8/10:   0%|          | 0/750 [00:00<?, ?it/s]"
      ]
     },
     "metadata": {},
     "output_type": "display_data"
    },
    {
     "name": "stdout",
     "output_type": "stream",
     "text": [
      "After batch 100: Train Loss: 0.2568\n"
     ]
    },
    {
     "data": {
      "application/vnd.jupyter.widget-view+json": {
       "model_id": "808b2fe4b4344993bcdaaed4b7b1629d",
       "version_major": 2,
       "version_minor": 0
      },
      "text/plain": [
       "Validation:   0%|          | 0/188 [00:00<?, ?it/s]"
      ]
     },
     "metadata": {},
     "output_type": "display_data"
    },
    {
     "name": "stdout",
     "output_type": "stream",
     "text": [
      "After batch 100: Validation Loss: 0.1684\n",
      "After batch 200: Train Loss: 0.2645\n"
     ]
    },
    {
     "data": {
      "application/vnd.jupyter.widget-view+json": {
       "model_id": "d38bdc855e2e413b84d69c87657b4277",
       "version_major": 2,
       "version_minor": 0
      },
      "text/plain": [
       "Validation:   0%|          | 0/188 [00:00<?, ?it/s]"
      ]
     },
     "metadata": {},
     "output_type": "display_data"
    },
    {
     "name": "stdout",
     "output_type": "stream",
     "text": [
      "After batch 200: Validation Loss: 0.1601\n",
      "After batch 300: Train Loss: 0.2616\n"
     ]
    },
    {
     "data": {
      "application/vnd.jupyter.widget-view+json": {
       "model_id": "37a51624ead343b3a889645b762501ac",
       "version_major": 2,
       "version_minor": 0
      },
      "text/plain": [
       "Validation:   0%|          | 0/188 [00:00<?, ?it/s]"
      ]
     },
     "metadata": {},
     "output_type": "display_data"
    },
    {
     "name": "stdout",
     "output_type": "stream",
     "text": [
      "After batch 300: Validation Loss: 0.1599\n",
      "After batch 400: Train Loss: 0.2604\n"
     ]
    },
    {
     "data": {
      "application/vnd.jupyter.widget-view+json": {
       "model_id": "e5786da19e414e92a5e76408db95eafd",
       "version_major": 2,
       "version_minor": 0
      },
      "text/plain": [
       "Validation:   0%|          | 0/188 [00:00<?, ?it/s]"
      ]
     },
     "metadata": {},
     "output_type": "display_data"
    },
    {
     "name": "stdout",
     "output_type": "stream",
     "text": [
      "After batch 400: Validation Loss: 0.1793\n",
      "After batch 500: Train Loss: 0.2599\n"
     ]
    },
    {
     "data": {
      "application/vnd.jupyter.widget-view+json": {
       "model_id": "f9662ef9a895460b8dcc62340b17ff7a",
       "version_major": 2,
       "version_minor": 0
      },
      "text/plain": [
       "Validation:   0%|          | 0/188 [00:00<?, ?it/s]"
      ]
     },
     "metadata": {},
     "output_type": "display_data"
    },
    {
     "name": "stdout",
     "output_type": "stream",
     "text": [
      "After batch 500: Validation Loss: 0.1480\n",
      "After batch 600: Train Loss: 0.2581\n"
     ]
    },
    {
     "data": {
      "application/vnd.jupyter.widget-view+json": {
       "model_id": "17162696f75549d3a18ebe2718859bb6",
       "version_major": 2,
       "version_minor": 0
      },
      "text/plain": [
       "Validation:   0%|          | 0/188 [00:00<?, ?it/s]"
      ]
     },
     "metadata": {},
     "output_type": "display_data"
    },
    {
     "name": "stdout",
     "output_type": "stream",
     "text": [
      "After batch 600: Validation Loss: 0.1766\n",
      "After batch 700: Train Loss: 0.2559\n"
     ]
    },
    {
     "data": {
      "application/vnd.jupyter.widget-view+json": {
       "model_id": "305367e945d9437e9606a8e3cde4b638",
       "version_major": 2,
       "version_minor": 0
      },
      "text/plain": [
       "Validation:   0%|          | 0/188 [00:00<?, ?it/s]"
      ]
     },
     "metadata": {},
     "output_type": "display_data"
    },
    {
     "name": "stdout",
     "output_type": "stream",
     "text": [
      "After batch 700: Validation Loss: 0.1943\n",
      "Epoch 8 - Train Loss: 0.2555\n"
     ]
    },
    {
     "data": {
      "application/vnd.jupyter.widget-view+json": {
       "model_id": "bcdb8975dcec474f863b5648f6c757e0",
       "version_major": 2,
       "version_minor": 0
      },
      "text/plain": [
       "Validation:   0%|          | 0/188 [00:00<?, ?it/s]"
      ]
     },
     "metadata": {},
     "output_type": "display_data"
    },
    {
     "name": "stdout",
     "output_type": "stream",
     "text": [
      "Epoch 8 - Validation Loss: 0.1905\n"
     ]
    },
    {
     "data": {
      "application/vnd.jupyter.widget-view+json": {
       "model_id": "c5a0bdf809e7451f92c39fcb5766d42a",
       "version_major": 2,
       "version_minor": 0
      },
      "text/plain": [
       "Training Epoch 9/10:   0%|          | 0/750 [00:00<?, ?it/s]"
      ]
     },
     "metadata": {},
     "output_type": "display_data"
    },
    {
     "name": "stdout",
     "output_type": "stream",
     "text": [
      "After batch 100: Train Loss: 0.2573\n"
     ]
    },
    {
     "data": {
      "application/vnd.jupyter.widget-view+json": {
       "model_id": "f8209867343b44b5a0afc9ba13be0a54",
       "version_major": 2,
       "version_minor": 0
      },
      "text/plain": [
       "Validation:   0%|          | 0/188 [00:00<?, ?it/s]"
      ]
     },
     "metadata": {},
     "output_type": "display_data"
    },
    {
     "name": "stdout",
     "output_type": "stream",
     "text": [
      "After batch 100: Validation Loss: 0.1652\n",
      "After batch 200: Train Loss: 0.2502\n"
     ]
    },
    {
     "data": {
      "application/vnd.jupyter.widget-view+json": {
       "model_id": "f5ee67ac98ce4adebf8b27f93e7c6f42",
       "version_major": 2,
       "version_minor": 0
      },
      "text/plain": [
       "Validation:   0%|          | 0/188 [00:00<?, ?it/s]"
      ]
     },
     "metadata": {},
     "output_type": "display_data"
    },
    {
     "name": "stdout",
     "output_type": "stream",
     "text": [
      "After batch 200: Validation Loss: 0.1426\n",
      "After batch 300: Train Loss: 0.2492\n"
     ]
    },
    {
     "data": {
      "application/vnd.jupyter.widget-view+json": {
       "model_id": "fd62ba39bf2b41ea94c58eb0fd52341d",
       "version_major": 2,
       "version_minor": 0
      },
      "text/plain": [
       "Validation:   0%|          | 0/188 [00:00<?, ?it/s]"
      ]
     },
     "metadata": {},
     "output_type": "display_data"
    },
    {
     "name": "stdout",
     "output_type": "stream",
     "text": [
      "After batch 300: Validation Loss: 0.1618\n",
      "After batch 400: Train Loss: 0.2514\n"
     ]
    },
    {
     "data": {
      "application/vnd.jupyter.widget-view+json": {
       "model_id": "56fc690dcb6f45bdb1abdc686eeb3335",
       "version_major": 2,
       "version_minor": 0
      },
      "text/plain": [
       "Validation:   0%|          | 0/188 [00:00<?, ?it/s]"
      ]
     },
     "metadata": {},
     "output_type": "display_data"
    },
    {
     "name": "stdout",
     "output_type": "stream",
     "text": [
      "After batch 400: Validation Loss: 0.1543\n",
      "After batch 500: Train Loss: 0.2527\n"
     ]
    },
    {
     "data": {
      "application/vnd.jupyter.widget-view+json": {
       "model_id": "3a45372497ac408682e96ecf4f2400be",
       "version_major": 2,
       "version_minor": 0
      },
      "text/plain": [
       "Validation:   0%|          | 0/188 [00:00<?, ?it/s]"
      ]
     },
     "metadata": {},
     "output_type": "display_data"
    },
    {
     "name": "stdout",
     "output_type": "stream",
     "text": [
      "After batch 500: Validation Loss: 0.1568\n",
      "After batch 600: Train Loss: 0.2529\n"
     ]
    },
    {
     "data": {
      "application/vnd.jupyter.widget-view+json": {
       "model_id": "453515dd44704d94a499a813c2acbd5d",
       "version_major": 2,
       "version_minor": 0
      },
      "text/plain": [
       "Validation:   0%|          | 0/188 [00:00<?, ?it/s]"
      ]
     },
     "metadata": {},
     "output_type": "display_data"
    },
    {
     "name": "stdout",
     "output_type": "stream",
     "text": [
      "After batch 600: Validation Loss: 0.1514\n",
      "After batch 700: Train Loss: 0.2501\n"
     ]
    },
    {
     "data": {
      "application/vnd.jupyter.widget-view+json": {
       "model_id": "1e715e78fd044423b98755160a4afdca",
       "version_major": 2,
       "version_minor": 0
      },
      "text/plain": [
       "Validation:   0%|          | 0/188 [00:00<?, ?it/s]"
      ]
     },
     "metadata": {},
     "output_type": "display_data"
    },
    {
     "name": "stdout",
     "output_type": "stream",
     "text": [
      "After batch 700: Validation Loss: 0.1531\n",
      "Epoch 9 - Train Loss: 0.2504\n"
     ]
    },
    {
     "data": {
      "application/vnd.jupyter.widget-view+json": {
       "model_id": "badb7458caa244f490c99b36b1dd93f4",
       "version_major": 2,
       "version_minor": 0
      },
      "text/plain": [
       "Validation:   0%|          | 0/188 [00:00<?, ?it/s]"
      ]
     },
     "metadata": {},
     "output_type": "display_data"
    },
    {
     "name": "stdout",
     "output_type": "stream",
     "text": [
      "Epoch 9 - Validation Loss: 0.1376\n"
     ]
    },
    {
     "data": {
      "application/vnd.jupyter.widget-view+json": {
       "model_id": "1a928122a5b14104a15dc2be7ac20c26",
       "version_major": 2,
       "version_minor": 0
      },
      "text/plain": [
       "Training Epoch 10/10:   0%|          | 0/750 [00:00<?, ?it/s]"
      ]
     },
     "metadata": {},
     "output_type": "display_data"
    },
    {
     "name": "stdout",
     "output_type": "stream",
     "text": [
      "After batch 100: Train Loss: 0.2509\n"
     ]
    },
    {
     "data": {
      "application/vnd.jupyter.widget-view+json": {
       "model_id": "fe859046c50244e3a779bfa3aca07a8d",
       "version_major": 2,
       "version_minor": 0
      },
      "text/plain": [
       "Validation:   0%|          | 0/188 [00:00<?, ?it/s]"
      ]
     },
     "metadata": {},
     "output_type": "display_data"
    },
    {
     "name": "stdout",
     "output_type": "stream",
     "text": [
      "After batch 100: Validation Loss: 0.1398\n",
      "After batch 200: Train Loss: 0.2370\n"
     ]
    },
    {
     "data": {
      "application/vnd.jupyter.widget-view+json": {
       "model_id": "c3eab3185d6f4a30b946a737fcc36e32",
       "version_major": 2,
       "version_minor": 0
      },
      "text/plain": [
       "Validation:   0%|          | 0/188 [00:00<?, ?it/s]"
      ]
     },
     "metadata": {},
     "output_type": "display_data"
    },
    {
     "name": "stdout",
     "output_type": "stream",
     "text": [
      "After batch 200: Validation Loss: 0.1532\n",
      "After batch 300: Train Loss: 0.2339\n"
     ]
    },
    {
     "data": {
      "application/vnd.jupyter.widget-view+json": {
       "model_id": "d72d61d3da1249e1a56dae7ebb397574",
       "version_major": 2,
       "version_minor": 0
      },
      "text/plain": [
       "Validation:   0%|          | 0/188 [00:00<?, ?it/s]"
      ]
     },
     "metadata": {},
     "output_type": "display_data"
    },
    {
     "name": "stdout",
     "output_type": "stream",
     "text": [
      "After batch 300: Validation Loss: 0.1500\n",
      "After batch 400: Train Loss: 0.2376\n"
     ]
    },
    {
     "data": {
      "application/vnd.jupyter.widget-view+json": {
       "model_id": "2dacccd5de6a481e9b47c09ae4bbb312",
       "version_major": 2,
       "version_minor": 0
      },
      "text/plain": [
       "Validation:   0%|          | 0/188 [00:00<?, ?it/s]"
      ]
     },
     "metadata": {},
     "output_type": "display_data"
    },
    {
     "name": "stdout",
     "output_type": "stream",
     "text": [
      "After batch 400: Validation Loss: 0.1575\n",
      "After batch 500: Train Loss: 0.2354\n"
     ]
    },
    {
     "data": {
      "application/vnd.jupyter.widget-view+json": {
       "model_id": "1562efdb84f74bf38e25f89dc52d7516",
       "version_major": 2,
       "version_minor": 0
      },
      "text/plain": [
       "Validation:   0%|          | 0/188 [00:00<?, ?it/s]"
      ]
     },
     "metadata": {},
     "output_type": "display_data"
    },
    {
     "name": "stdout",
     "output_type": "stream",
     "text": [
      "After batch 500: Validation Loss: 0.1496\n",
      "After batch 600: Train Loss: 0.2381\n"
     ]
    },
    {
     "data": {
      "application/vnd.jupyter.widget-view+json": {
       "model_id": "60947d4d7a974922a22edcd8887e76e9",
       "version_major": 2,
       "version_minor": 0
      },
      "text/plain": [
       "Validation:   0%|          | 0/188 [00:00<?, ?it/s]"
      ]
     },
     "metadata": {},
     "output_type": "display_data"
    },
    {
     "name": "stdout",
     "output_type": "stream",
     "text": [
      "After batch 600: Validation Loss: 0.1535\n",
      "After batch 700: Train Loss: 0.2395\n"
     ]
    },
    {
     "data": {
      "application/vnd.jupyter.widget-view+json": {
       "model_id": "828cbec6c1c34c989b94cd9f2ec75785",
       "version_major": 2,
       "version_minor": 0
      },
      "text/plain": [
       "Validation:   0%|          | 0/188 [00:00<?, ?it/s]"
      ]
     },
     "metadata": {},
     "output_type": "display_data"
    },
    {
     "name": "stdout",
     "output_type": "stream",
     "text": [
      "After batch 700: Validation Loss: 0.1455\n",
      "Epoch 10 - Train Loss: 0.2390\n"
     ]
    },
    {
     "data": {
      "application/vnd.jupyter.widget-view+json": {
       "model_id": "9ac99fd8cce34d9e90e7049740d21106",
       "version_major": 2,
       "version_minor": 0
      },
      "text/plain": [
       "Validation:   0%|          | 0/188 [00:00<?, ?it/s]"
      ]
     },
     "metadata": {},
     "output_type": "display_data"
    },
    {
     "name": "stdout",
     "output_type": "stream",
     "text": [
      "Epoch 10 - Validation Loss: 0.1441\n"
     ]
    },
    {
     "data": {
      "image/png": "[encoded data removed]",
      "text/plain": [
       "<Figure size 640x480 with 1 Axes>"
      ]
     },
     "metadata": {},
     "output_type": "display_data"
    }
   ],
   "source": [
    "EPOCHS = 10\n",
    "LEARNING_RATE = 0.001\n",
    "BATCH_INTERVAL = 100  # Calculate losses after every 100 batches\n",
    "\n",
    "optimizer = optim.Adam(model.parameters(), lr=LEARNING_RATE)\n",
    "loss_function = nn.CrossEntropyLoss()\n",
    "\n",
    "train_loss_history = []\n",
    "val_loss_history = []\n",
    "\n",
    "model.to(device)\n",
    "\n",
    "for epoch in range(EPOCHS):\n",
    "    model.train()\n",
    "    running_train_loss = 0.0\n",
    "    for batch_idx, (image_batch, output_batch) in enumerate(\n",
    "        tqdm(train_loader, desc=f\"Training Epoch {epoch+1}/{EPOCHS}\"), start=1\n",
    "    ):\n",
    "        image_batch, output_batch = image_batch.to(device), output_batch.to(device)\n",
    "        optimizer.zero_grad()\n",
    "        model_output = model(image_batch)\n",
    "        loss = loss_function(model_output, output_batch)\n",
    "        loss.backward()\n",
    "        optimizer.step()\n",
    "        running_train_loss += loss.item()\n",
    "\n",
    "        if (batch_idx) % BATCH_INTERVAL == 0:\n",
    "            avg_train_loss = running_train_loss / (batch_idx)\n",
    "            train_loss_history.append(avg_train_loss)\n",
    "            print(f\"After batch {batch_idx}: Train Loss: {avg_train_loss:.4f}\")\n",
    "\n",
    "            # Evaluate validation loss\n",
    "            model.eval()\n",
    "            running_val_loss = 0.0\n",
    "            with torch.no_grad():\n",
    "                for val_image_batch, val_output_batch in tqdm(\n",
    "                    val_loader, desc=\"Validation\"\n",
    "                ):\n",
    "                    val_image_batch, val_output_batch = (\n",
    "                        val_image_batch.to(device),\n",
    "                        val_output_batch.to(device),\n",
    "                    )\n",
    "                    val_model_output = model(val_image_batch)\n",
    "                    val_loss = loss_function(val_model_output, val_output_batch)\n",
    "                    running_val_loss += val_loss.item()\n",
    "            avg_val_loss = running_val_loss / len(val_loader)\n",
    "            val_loss_history.append(avg_val_loss)\n",
    "            print(f\"After batch {batch_idx}: Validation Loss: {avg_val_loss:.4f}\")\n",
    "            model.train()  # Switch back to training mode\n",
    "\n",
    "    avg_epoch_train_loss = running_train_loss / len(train_loader)\n",
    "    print(f\"Epoch {epoch+1} - Train Loss: {avg_epoch_train_loss:.4f}\")\n",
    "\n",
    "    # Evaluate validation loss at the end of each epoch\n",
    "    model.eval()\n",
    "    running_val_loss = 0.0\n",
    "    with torch.no_grad():\n",
    "        for val_image_batch, val_output_batch in tqdm(val_loader, desc=\"Validation\"):\n",
    "            val_model_output = model(val_image_batch)\n",
    "            val_loss = loss_function(val_model_output, val_output_batch)\n",
    "            running_val_loss += val_loss.item()\n",
    "    avg_epoch_val_loss = running_val_loss / len(val_loader)\n",
    "    val_loss_history.append(avg_epoch_val_loss)\n",
    "    print(f\"Epoch {epoch+1} - Validation Loss: {avg_epoch_val_loss:.4f}\")\n",
    "\n",
    "plt.plot(train_loss_history, label=\"Train Loss\")\n",
    "plt.plot(val_loss_history, label=\"Validation Loss\")\n",
    "plt.title(\"Loss\")\n",
    "plt.legend()\n",
    "plt.show()"
   ]
  },
  {
   "cell_type": "markdown",
   "metadata": {},
   "source": [
    "## Test the Model\n",
    "\n",
    "Test the freshly trained model with a randomly drawn image from the dataset."
   ]
  },
  {
   "cell_type": "code",
   "execution_count": 12,
   "metadata": {},
   "outputs": [],
   "source": [
    "def load_onnx_model(path_to_model: Path):\n",
    "    if path_to_model is None:\n",
    "        raise ValueError(\"Path must be provided if onnx is True\")\n",
    "    return onnxruntime.InferenceSession(\n",
    "        str(path_to_model), providers=[\"CPUExecutionProvider\"]\n",
    "    )\n",
    "\n",
    "\n",
    "def predict_digit(\n",
    "    input_tensor: torch.Tensor,\n",
    "    model: torch.nn.Module = None,\n",
    "    onnx: bool = False,\n",
    "    onnx_model_path: Path = None,\n",
    ") -> tuple[int, float]:\n",
    "    if onnx:\n",
    "        model_session = load_onnx_model(onnx_model_path)\n",
    "        onnx_predictions = model_session.run(None, {\"image\": input_tensor})\n",
    "        predictions = torch.tensor(np.array(onnx_predictions))\n",
    "    else:\n",
    "        predictions = model(input_tensor)\n",
    "\n",
    "    predicted_number = torch.argmax(predictions)\n",
    "    probabilities = F.softmax(predictions.clone().detach(), dim=-1).numpy().squeeze()\n",
    "    confidence = probabilities[predicted_number]\n",
    "    return predicted_number.item(), confidence"
   ]
  },
  {
   "cell_type": "code",
   "execution_count": 13,
   "metadata": {},
   "outputs": [
    {
     "data": {
      "image/png": "[encoded data removed]",
      "text/plain": [
       "<Figure size 640x480 with 1 Axes>"
      ]
     },
     "metadata": {},
     "output_type": "display_data"
    },
    {
     "name": "stdout",
     "output_type": "stream",
     "text": [
      "Predicted : 8 - Confidence: 98.12%\n",
      "True label: 8\n"
     ]
    }
   ],
   "source": [
    "sampling_idx = torch.randint(0, len(images), (1,))\n",
    "test_img = images[sampling_idx]\n",
    "test_label = labels[sampling_idx]\n",
    "plt.imshow(test_img.numpy().squeeze(), cmap=\"grey\")\n",
    "plt.show()\n",
    "predicted_number, confidence = predict_digit(test_img, model)\n",
    "print(f\"Predicted : {predicted_number} - Confidence: {100*confidence:.2f}%\")\n",
    "print(f\"True label: {test_label.item()}\")"
   ]
  },
  {
   "cell_type": "markdown",
   "metadata": {},
   "source": [
    "### Metrics\n",
    "\n",
    "Does it look good?\n",
    "\n",
    "Since this is just one image from the **training** dataset, we need to evaluate how the model performs on data it has never seen before. This is where the **test** dataset comes in. In the following cell, we calculate various metrics to evaluate the model's performance.\n",
    "\n",
    "The metrics we will calculate are Accuracy, Recall, F1 score, and Support:\n",
    "\n",
    "- **Accuracy**: The ratio of correctly predicted instances to the total instances. It gives an overall measure of how well the model is performing.\n",
    "- **Recall**: The ratio of correctly predicted positive observations to all the observations in the actual class. It tells us how well the model can identify positive instances.\n",
    "- **F1 Score**: The weighted average of Precision and Recall. It is useful when you need a balance between Precision and Recall.\n",
    "- **Support**: The number of actual occurrences of the class in the dataset. It helps in understanding the distribution of the dataset.\n",
    "\n",
    "When interpreting these metrics, keep in mind:\n",
    "- **Accuracy** can be misleading if the dataset is imbalanced.\n",
    "- **Recall** is crucial when the cost of false negatives is high.\n",
    "- **F1 Score** is useful when you need to balance Precision and Recall.\n",
    "- **Support** helps in understanding the context of the other metrics.\n"
   ]
  },
  {
   "cell_type": "code",
   "execution_count": 14,
   "metadata": {},
   "outputs": [
    {
     "data": {
      "application/vnd.jupyter.widget-view+json": {
       "model_id": "81c7158542d34f17820f3a70b151778c",
       "version_major": 2,
       "version_minor": 0
      },
      "text/plain": [
       "Evaluating the model on the Test set:   0%|          | 0/157 [00:00<?, ?it/s]"
      ]
     },
     "metadata": {},
     "output_type": "display_data"
    },
    {
     "data": {
      "image/png": "[encoded data removed]",
      "text/plain": [
       "<Figure size 1200x500 with 4 Axes>"
      ]
     },
     "metadata": {},
     "output_type": "display_data"
    },
    {
     "name": "stdout",
     "output_type": "stream",
     "text": [
      "              precision    recall  f1-score   support\n",
      "\n",
      "           0       0.96      0.97      0.97       980\n",
      "           1       0.97      0.98      0.98      1135\n",
      "           2       0.97      0.96      0.96      1032\n",
      "           3       0.92      0.98      0.95      1010\n",
      "           4       0.98      0.92      0.95       982\n",
      "           5       0.94      0.95      0.95       892\n",
      "           6       0.98      0.97      0.97       958\n",
      "           7       0.93      0.96      0.94      1028\n",
      "           8       0.96      0.94      0.95       974\n",
      "           9       0.94      0.92      0.93      1009\n",
      "\n",
      "    accuracy                           0.96     10000\n",
      "   macro avg       0.96      0.95      0.95     10000\n",
      "weighted avg       0.96      0.96      0.96     10000\n",
      "\n"
     ]
    }
   ],
   "source": [
    "model.to(device)\n",
    "model.eval()\n",
    "\n",
    "test_predicted_output = []\n",
    "test_true_output = []\n",
    "\n",
    "with torch.no_grad():\n",
    "    for batch_idx, (image_batch, output_batch) in enumerate(\n",
    "        tqdm(test_loader, desc=\"Evaluating the model on the Test set\")\n",
    "    ):\n",
    "        image_batch, output_batch = image_batch.to(device), output_batch.to(device)\n",
    "        model_output = model(image_batch)\n",
    "        predicted_numbers = torch.argmax(model_output, dim=1)\n",
    "        test_predicted_output.extend(predicted_numbers.cpu().numpy())\n",
    "        test_true_output.extend(output_batch.cpu().numpy())\n",
    "\n",
    "cm_abs = confusion_matrix(\n",
    "    test_true_output, test_predicted_output, labels=[i for i in range(10)]\n",
    ")\n",
    "cm_norm = confusion_matrix(\n",
    "    test_true_output,\n",
    "    test_predicted_output,\n",
    "    labels=[i for i in range(10)],\n",
    "    normalize=\"true\",\n",
    ")\n",
    "cm_round = np.around(cm_norm, 2)\n",
    "\n",
    "fig, (ax1, ax2) = plt.subplots(1, 2, figsize=(12, 5))\n",
    "\n",
    "disp_abs = ConfusionMatrixDisplay(\n",
    "    confusion_matrix=cm_abs, display_labels=[i for i in range(10)]\n",
    ")\n",
    "disp_norm = ConfusionMatrixDisplay(\n",
    "    confusion_matrix=cm_round, display_labels=[i for i in range(10)]\n",
    ")\n",
    "\n",
    "classification_report_test = classification_report(\n",
    "    test_true_output, test_predicted_output, labels=[i for i in range(10)]\n",
    ")\n",
    "\n",
    "disp_abs.plot(ax=ax1)\n",
    "ax1.set_title(\"Absolute\")\n",
    "ax1.grid(False)\n",
    "\n",
    "disp_norm.plot(ax=ax2)\n",
    "ax2.set_title(\"Normalized\")\n",
    "ax2.grid(False)\n",
    "plt.show()\n",
    "\n",
    "print(classification_report_test)"
   ]
  },
  {
   "cell_type": "markdown",
   "metadata": {},
   "source": [
    "The metrics look very well again. But does the model also perform well on your hand-written digits? Let us find out!"
   ]
  },
  {
   "cell_type": "markdown",
   "metadata": {},
   "source": [
    "## Model Export"
   ]
  },
  {
   "cell_type": "code",
   "execution_count": 15,
   "metadata": {},
   "outputs": [
    {
     "name": "stdout",
     "output_type": "stream",
     "text": [
      "Directory 'c:\\Users\\TobiasRothlin\\Documents\\Python_Projects\\ComputerVisionTurtorial\\models' already exists.\n"
     ]
    }
   ],
   "source": [
    "FILE_NAME = \"./3_deeper_mnist_model.onnx\"\n",
    "\n",
    "MODEL_FOLDER = Path.cwd() / \"models\"\n",
    "MODEL_PATH = MODEL_FOLDER / FILE_NAME\n",
    "\n",
    "# Create the directory if it doesn't exist\n",
    "if not MODEL_FOLDER.exists():\n",
    "    MODEL_FOLDER.mkdir(parents=True, exist_ok=True)\n",
    "    print(f\"Directory '{MODEL_FOLDER}' created.\")\n",
    "else:\n",
    "    print(f\"Directory '{MODEL_FOLDER}' already exists.\")"
   ]
  },
  {
   "cell_type": "code",
   "execution_count": 16,
   "metadata": {},
   "outputs": [
    {
     "name": "stdout",
     "output_type": "stream",
     "text": [
      "Model exported in ONNX format to: c:\\Users\\TobiasRothlin\\Documents\\Python_Projects\\ComputerVisionTurtorial\\models\\3_deeper_mnist_model.onnx\n"
     ]
    }
   ],
   "source": [
    "# Save the model\n",
    "model.eval()\n",
    "image = images[0].unsqueeze(0)\n",
    "torch.onnx.export(\n",
    "    model, image, MODEL_PATH, input_names=[\"image\"], output_names=[\"digit\"]\n",
    ")\n",
    "\n",
    "print(f\"Model exported in ONNX format to: {MODEL_PATH}\")"
   ]
  },
  {
   "cell_type": "markdown",
   "metadata": {},
   "source": [
    "## Real-world Data\n",
    "\n",
    "Most tutorials would just finish with the above evaluation. After all, the metrics look quite good, the majority of the manually provided samples to the model are correctly classified; what more do you want?\n",
    "\n",
    "What is mostly missing, but what is the most common problem in practice, is, that there are real-world cases with real-world data. The model is performing quite well, but what if you provide completely novel hand-written digits to it that is maybe not nicely centred, or is drawn with a different pencil width, or rotated, etc.\n",
    "\n",
    "In the following section, we add this real-world scenario by letting you draw your own hand-written digits and test your trained models against this custom dataset."
   ]
  },
  {
   "cell_type": "markdown",
   "metadata": {},
   "source": [
    "### Single Digit\n",
    "\n",
    "To create a single digit that can be run in the `Real-World Model Inference` below:\n",
    "1. Open the drawing tool to create hand-written digits yourself by running the next cell\n",
    "1. Select the model you just created\n",
    "1. Draw a digit\n",
    "1. Click on 'Classify' to see how well the model predicts\n",
    "1. Close the tool (or try more digits)"
   ]
  },
  {
   "cell_type": "markdown",
   "metadata": {},
   "source": [
    "#### Custom Digits Test Dataset\n",
    "\n",
    "To create a suite of digits ranging from 0 to 9 that can be run in the `Real-World Digits Comparison` below:\n",
    "1. Open the drawing tool to create hand-written digits yourself by running the next cell\n",
    "1. Click on `Create Custom Test Set`\n",
    "1. Draw the digit that is prompted\n",
    "1. Click on `Save and Next`\n",
    "1. Once done you can change any drawn number by selecting it from the dropdown"
   ]
  },
  {
   "cell_type": "code",
   "execution_count": 17,
   "metadata": {},
   "outputs": [
    {
     "name": "stdout",
     "output_type": "stream",
     "text": [
      "Predicted number: 6, Confidence: 0.9880\n",
      "Predicted number: 7, Confidence: 0.9983\n",
      "Predicted number: 8, Confidence: 0.9999\n",
      "Predicted number: 1, Confidence: 0.7815\n",
      "Predicted number: 0, Confidence: 0.9989\n",
      "Predicted number: 0, Confidence: 0.9989\n",
      "Predicted number: 2, Confidence: 0.9993\n"
     ]
    }
   ],
   "source": [
    "!python src/model_test_drawing.py"
   ]
  },
  {
   "cell_type": "markdown",
   "metadata": {},
   "source": [
    "### Real-World Model Inference"
   ]
  },
  {
   "cell_type": "code",
   "execution_count": 18,
   "metadata": {},
   "outputs": [
    {
     "data": {
      "image/png": "[encoded data removed]",
      "text/plain": [
       "<Figure size 640x480 with 1 Axes>"
      ]
     },
     "metadata": {},
     "output_type": "display_data"
    },
    {
     "name": "stdout",
     "output_type": "stream",
     "text": [
      "PyTorch model prediction: 2 - Confidence: 99.93%\n",
      "ONNX model prediction:    2 - Confidence: 99.93%\n"
     ]
    }
   ],
   "source": [
    "assert (\n",
    "    Path.cwd() / \"handwriting\" / \"my_digit.npy\"\n",
    ").exists(), \"Draw and classify a digit first.\"\n",
    "image_input_tensor = np.load(\"handwriting/my_digit.npy\")\n",
    "\n",
    "plt.cla()\n",
    "plt.imshow(image_input_tensor[0].squeeze(), cmap=\"grey\")\n",
    "plt.title(\"Input Tensor\")\n",
    "plt.show()\n",
    "\n",
    "try:\n",
    "    model.eval()\n",
    "    pt_predicted_number, pt_confidence = predict_digit(\n",
    "        torch.tensor(image_input_tensor), model\n",
    "    )\n",
    "    print(\n",
    "        f\"PyTorch model prediction: {pt_predicted_number} - Confidence: {100*pt_confidence:.2f}%\"\n",
    "    )\n",
    "except NameError:\n",
    "    print(\"No PyTorch model present, skipping...\")\n",
    "\n",
    "onnx_predicted_number, onnx_confidence = predict_digit(\n",
    "    image_input_tensor, onnx=True, onnx_model_path=MODEL_PATH\n",
    ")\n",
    "print(\n",
    "    f\"ONNX model prediction:    {onnx_predicted_number} - Confidence: {100*onnx_confidence:.2f}%\"\n",
    ")"
   ]
  },
  {
   "cell_type": "markdown",
   "metadata": {},
   "source": [
    "#### Real-World Digits Comparison\n",
    "\n",
    "The plot lets you compare the performance of all the models from the following notebooks (they will have the same output, just with their model)."
   ]
  },
  {
   "cell_type": "code",
   "execution_count": 19,
   "metadata": {},
   "outputs": [
    {
     "data": {
      "image/png": "[encoded data removed]",
      "text/plain": [
       "<Figure size 500x2000 with 20 Axes>"
      ]
     },
     "metadata": {},
     "output_type": "display_data"
    }
   ],
   "source": [
    "assert (\n",
    "    Path.cwd() / \"handwriting\" / \"digit_0.npy\"\n",
    ").exists(), \"Draw and classify a digit first.\"\n",
    "directory_path = Path(\"handwriting/\")\n",
    "\n",
    "fig, axes = plt.subplots(10, 2, figsize=(5, 20))\n",
    "\n",
    "for i in range(10):\n",
    "    file_path = directory_path / f\"digit_{i}.npy\"\n",
    "    image_input_tensor = np.load(file_path)\n",
    "\n",
    "    axes[i, 0].imshow(image_input_tensor.squeeze(), cmap=\"gray\")\n",
    "    axes[i, 0].set_title(f\"Digit {i}\")\n",
    "    axes[i, 0].axis(\"off\")\n",
    "\n",
    "    onnx_predicted_number, onnx_confidence = predict_digit(\n",
    "        image_input_tensor, onnx=True, onnx_model_path=MODEL_PATH\n",
    "    )\n",
    "\n",
    "    axes[i, 1].text(\n",
    "        0.5, 0.6, f\"Model prediction: {onnx_predicted_number}\", fontsize=12, ha=\"center\"\n",
    "    )\n",
    "    axes[i, 1].text(\n",
    "        0.5, 0.4, f\"Confidence: {100*onnx_confidence:.2f}%\", fontsize=12, ha=\"center\"\n",
    "    )\n",
    "    axes[i, 1].axis(\"off\")\n",
    "\n",
    "# Adjust layout\n",
    "plt.tight_layout()\n",
    "plt.show()"
   ]
  },
  {
   "cell_type": "markdown",
   "metadata": {},
   "source": [
    "Finally, the model seems to predict the correct digit, and with high confidence 👏👏👏"
   ]
  }
 ],
 "metadata": {
  "kernelspec": {
   "display_name": "Python 3",
   "language": "python",
   "name": "python3"
  },
  "language_info": {
   "codemirror_mode": {
    "name": "ipython",
    "version": 3
   },
   "file_extension": ".py",
   "mimetype": "text/x-python",
   "name": "python",
   "nbconvert_exporter": "python",
   "pygments_lexer": "ipython3",
   "version": "3.11.0"
  }
 },
 "nbformat": 4,
 "nbformat_minor": 2
}
